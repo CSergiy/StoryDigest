{
 "cells": [
  {
   "cell_type": "markdown",
   "id": "1bc0d433-7b13-48de-a2ea-569bee015366",
   "metadata": {},
   "source": [
    "Exploring https://www.kaggle.com/datasets/michaelrussell4/10000-books-and-their-genres-standardized"
   ]
  },
  {
   "cell_type": "code",
   "execution_count": null,
   "id": "b7bfc94d-2c3d-4ed9-bb4d-7b4e4086244c",
   "metadata": {},
   "outputs": [],
   "source": []
  }
 ],
 "metadata": {
  "kernelspec": {
   "display_name": "Python 3 (ipykernel)",
   "language": "python",
   "name": "python3"
  },
  "language_info": {
   "codemirror_mode": {
    "name": "ipython",
    "version": 3
   },
   "file_extension": ".py",
   "mimetype": "text/x-python",
   "name": "python",
   "nbconvert_exporter": "python",
   "pygments_lexer": "ipython3",
   "version": "3.8.19"
  }
 },
 "nbformat": 4,
 "nbformat_minor": 5
}
