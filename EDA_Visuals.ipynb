{
 "cells": [
  {
   "cell_type": "markdown",
   "id": "1bc0d433-7b13-48de-a2ea-569bee015366",
   "metadata": {},
   "source": [
    "Exploring https://www.kaggle.com/datasets/michaelrussell4/10000-books-and-their-genres-standardized"
   ]
  },
  {
   "cell_type": "code",
   "execution_count": 2,
   "id": "b7bfc94d-2c3d-4ed9-bb4d-7b4e4086244c",
   "metadata": {},
   "outputs": [
    {
     "name": "stdout",
     "output_type": "stream",
     "text": [
      "   Unnamed: 0                        title  \\\n",
      "0           0              apocolocyntosis   \n",
      "1           1  the house on the borderland   \n",
      "2           2                 the warriors   \n",
      "3           3         a voyage to the moon   \n",
      "4           4                 la fiammetta   \n",
      "\n",
      "                                                text  \\\n",
      "0  Produced by Ted Garvin, Ben Courtney and PG Di...   \n",
      "1  Produced by Suzanne Shell, Sjaani and PG Distr...   \n",
      "2  Produced by Charles Aldarondo, Charlie Kirschn...   \n",
      "3  Produced by Christine De Ryck, Stig M. Valstad...   \n",
      "4  Produced by Ted Garvin, Dave Morgan and PG Dis...   \n",
      "\n",
      "                                              genres  \n",
      "0  {'21st-century', 'history', 'roman', 'classics...  \n",
      "1  {'horror', 'mystery', 'classics', 'science-fic...  \n",
      "2  {'literary-fiction', 'history', 'biography', '...  \n",
      "3  {'20th-century', 'science-fiction', 'speculati...  \n",
      "4  {'literary-fiction', 'history', 'feminism', 'c...  \n"
     ]
    }
   ],
   "source": [
    "import pandas as pd\n",
    "\n",
    "# Specify the path to your CSV file\n",
    "file_path = '10k books/books_and_genres.csv'\n",
    "\n",
    "# Read the CSV file into a DataFrame\n",
    "df = pd.read_csv(file_path)"
   ]
  },
  {
   "cell_type": "code",
   "execution_count": 3,
   "id": "085c519b-4e05-41b3-9c60-808dfea763c5",
   "metadata": {},
   "outputs": [
    {
     "data": {
      "text/html": [
       "<div>\n",
       "<style scoped>\n",
       "    .dataframe tbody tr th:only-of-type {\n",
       "        vertical-align: middle;\n",
       "    }\n",
       "\n",
       "    .dataframe tbody tr th {\n",
       "        vertical-align: top;\n",
       "    }\n",
       "\n",
       "    .dataframe thead th {\n",
       "        text-align: right;\n",
       "    }\n",
       "</style>\n",
       "<table border=\"1\" class=\"dataframe\">\n",
       "  <thead>\n",
       "    <tr style=\"text-align: right;\">\n",
       "      <th></th>\n",
       "      <th>Unnamed: 0</th>\n",
       "      <th>title</th>\n",
       "      <th>text</th>\n",
       "      <th>genres</th>\n",
       "    </tr>\n",
       "  </thead>\n",
       "  <tbody>\n",
       "    <tr>\n",
       "      <th>0</th>\n",
       "      <td>0</td>\n",
       "      <td>apocolocyntosis</td>\n",
       "      <td>Produced by Ted Garvin, Ben Courtney and PG Di...</td>\n",
       "      <td>{'21st-century', 'history', 'roman', 'classics...</td>\n",
       "    </tr>\n",
       "    <tr>\n",
       "      <th>1</th>\n",
       "      <td>1</td>\n",
       "      <td>the house on the borderland</td>\n",
       "      <td>Produced by Suzanne Shell, Sjaani and PG Distr...</td>\n",
       "      <td>{'horror', 'mystery', 'classics', 'science-fic...</td>\n",
       "    </tr>\n",
       "    <tr>\n",
       "      <th>2</th>\n",
       "      <td>2</td>\n",
       "      <td>the warriors</td>\n",
       "      <td>Produced by Charles Aldarondo, Charlie Kirschn...</td>\n",
       "      <td>{'literary-fiction', 'history', 'biography', '...</td>\n",
       "    </tr>\n",
       "    <tr>\n",
       "      <th>3</th>\n",
       "      <td>3</td>\n",
       "      <td>a voyage to the moon</td>\n",
       "      <td>Produced by Christine De Ryck, Stig M. Valstad...</td>\n",
       "      <td>{'20th-century', 'science-fiction', 'speculati...</td>\n",
       "    </tr>\n",
       "    <tr>\n",
       "      <th>4</th>\n",
       "      <td>4</td>\n",
       "      <td>la fiammetta</td>\n",
       "      <td>Produced by Ted Garvin, Dave Morgan and PG Dis...</td>\n",
       "      <td>{'literary-fiction', 'history', 'feminism', 'c...</td>\n",
       "    </tr>\n",
       "  </tbody>\n",
       "</table>\n",
       "</div>"
      ],
      "text/plain": [
       "   Unnamed: 0                        title  \\\n",
       "0           0              apocolocyntosis   \n",
       "1           1  the house on the borderland   \n",
       "2           2                 the warriors   \n",
       "3           3         a voyage to the moon   \n",
       "4           4                 la fiammetta   \n",
       "\n",
       "                                                text  \\\n",
       "0  Produced by Ted Garvin, Ben Courtney and PG Di...   \n",
       "1  Produced by Suzanne Shell, Sjaani and PG Distr...   \n",
       "2  Produced by Charles Aldarondo, Charlie Kirschn...   \n",
       "3  Produced by Christine De Ryck, Stig M. Valstad...   \n",
       "4  Produced by Ted Garvin, Dave Morgan and PG Dis...   \n",
       "\n",
       "                                              genres  \n",
       "0  {'21st-century', 'history', 'roman', 'classics...  \n",
       "1  {'horror', 'mystery', 'classics', 'science-fic...  \n",
       "2  {'literary-fiction', 'history', 'biography', '...  \n",
       "3  {'20th-century', 'science-fiction', 'speculati...  \n",
       "4  {'literary-fiction', 'history', 'feminism', 'c...  "
      ]
     },
     "execution_count": 3,
     "metadata": {},
     "output_type": "execute_result"
    }
   ],
   "source": [
    "df.head()"
   ]
  },
  {
   "cell_type": "code",
   "execution_count": 5,
   "id": "edd63681-0923-46ac-a724-a35fa9c1b014",
   "metadata": {},
   "outputs": [
    {
     "data": {
      "text/plain": [
       "(10635, 4)"
      ]
     },
     "execution_count": 5,
     "metadata": {},
     "output_type": "execute_result"
    }
   ],
   "source": [
    "df.shape"
   ]
  },
  {
   "cell_type": "code",
   "execution_count": 7,
   "id": "635bce94-5280-4320-a797-0e59a8d155ac",
   "metadata": {},
   "outputs": [
    {
     "name": "stdout",
     "output_type": "stream",
     "text": [
      "<class 'pandas.core.frame.DataFrame'>\n",
      "RangeIndex: 10635 entries, 0 to 10634\n",
      "Data columns (total 4 columns):\n",
      " #   Column      Non-Null Count  Dtype \n",
      "---  ------      --------------  ----- \n",
      " 0   Unnamed: 0  10635 non-null  int64 \n",
      " 1   title       10635 non-null  object\n",
      " 2   text        10373 non-null  object\n",
      " 3   genres      10635 non-null  object\n",
      "dtypes: int64(1), object(3)\n",
      "memory usage: 332.5+ KB\n"
     ]
    }
   ],
   "source": [
    "df.info()"
   ]
  },
  {
   "cell_type": "code",
   "execution_count": 8,
   "id": "01cfffb8-2a5e-4dfe-a2a5-2517c8f71fb0",
   "metadata": {},
   "outputs": [],
   "source": [
    "df = df.dropna(subset=['text'])"
   ]
  },
  {
   "cell_type": "code",
   "execution_count": 12,
   "id": "767a5b89-04b9-4439-a566-33787fe667a2",
   "metadata": {},
   "outputs": [
    {
     "name": "stdout",
     "output_type": "stream",
     "text": [
      "<class 'pandas.core.frame.DataFrame'>\n",
      "Index: 10373 entries, 0 to 10634\n",
      "Data columns (total 4 columns):\n",
      " #   Column      Non-Null Count  Dtype \n",
      "---  ------      --------------  ----- \n",
      " 0   Unnamed: 0  10373 non-null  int64 \n",
      " 1   title       10373 non-null  object\n",
      " 2   text        10373 non-null  object\n",
      " 3   genres      10373 non-null  object\n",
      "dtypes: int64(1), object(3)\n",
      "memory usage: 405.2+ KB\n"
     ]
    }
   ],
   "source": [
    "df.info()"
   ]
  },
  {
   "cell_type": "code",
   "execution_count": 14,
   "id": "cb3f04b7-fbb8-4424-b546-b7dedf928120",
   "metadata": {},
   "outputs": [
    {
     "data": {
      "text/plain": [
       "(10373, 4)"
      ]
     },
     "execution_count": 14,
     "metadata": {},
     "output_type": "execute_result"
    }
   ],
   "source": [
    "df.shape"
   ]
  },
  {
   "cell_type": "code",
   "execution_count": null,
   "id": "bb73f728-148a-437f-8172-500b5b60d7f3",
   "metadata": {},
   "outputs": [],
   "source": []
  }
 ],
 "metadata": {
  "kernelspec": {
   "display_name": "Python 3 (ipykernel)",
   "language": "python",
   "name": "python3"
  },
  "language_info": {
   "codemirror_mode": {
    "name": "ipython",
    "version": 3
   },
   "file_extension": ".py",
   "mimetype": "text/x-python",
   "name": "python",
   "nbconvert_exporter": "python",
   "pygments_lexer": "ipython3",
   "version": "3.8.19"
  }
 },
 "nbformat": 4,
 "nbformat_minor": 5
}
