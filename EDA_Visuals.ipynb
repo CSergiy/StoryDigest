{
 "cells": [
  {
   "cell_type": "markdown",
   "id": "237c7611-99b2-484f-9f1e-38f6dc4498f7",
   "metadata": {},
   "source": [
    "# Intro"
   ]
  },
  {
   "cell_type": "markdown",
   "id": "8253843e-0bf7-4eee-b581-ba925a252e1d",
   "metadata": {},
   "source": [
    "In this notebook, we aim to merge multiple datasets into one df in order to do further analysis.\n",
    "\n",
    "We aim to get the 'text' column of what we will be labelling as `text_df` , append a date via the `date_df`."
   ]
  },
  {
   "cell_type": "markdown",
   "id": "932977cb-4115-4d49-a74e-42af44bfae16",
   "metadata": {},
   "source": [
    "# Imports"
   ]
  },
  {
   "cell_type": "code",
   "execution_count": 1,
   "id": "bb46b787-5817-4513-92d1-a0af2e5f1c0f",
   "metadata": {},
   "outputs": [],
   "source": [
    "import pandas as pd"
   ]
  },
  {
   "cell_type": "markdown",
   "id": "335e57bb-c030-41a3-97c8-9b7617612deb",
   "metadata": {},
   "source": [
    "# Load Datasets"
   ]
  },
  {
   "cell_type": "markdown",
   "id": "2d24fadb-47ae-4f64-862a-40b45bccbea1",
   "metadata": {},
   "source": [
    "**Including Text**\n",
    "\n",
    "https://www.kaggle.com/datasets/michaelrussell4/10000-books-and-their-genres-standardized"
   ]
  },
  {
   "cell_type": "code",
   "execution_count": 2,
   "id": "b7bfc94d-2c3d-4ed9-bb4d-7b4e4086244c",
   "metadata": {},
   "outputs": [],
   "source": [
    "text_df = pd.read_csv('datasets/books_and_genres.csv')"
   ]
  },
  {
   "cell_type": "markdown",
   "id": "35781457-9670-4bee-90a7-ba1fe3c0618a",
   "metadata": {},
   "source": [
    "**Including Publication Date**\n",
    "\n",
    "https://www.kaggle.com/datasets/saurabhbagchi/books-dataset"
   ]
  },
  {
   "cell_type": "code",
   "execution_count": 3,
   "id": "17852544-024e-4717-9498-486c6cf0e2d4",
   "metadata": {},
   "outputs": [],
   "source": [
    "date_df = pd.read_csv('datasets/books.csv', encoding='ISO-8859-1', on_bad_lines='skip', sep=';', dtype={'Year-Of-Publication': 'str'})"
   ]
  },
  {
   "cell_type": "markdown",
   "id": "bfef2a6d-89c0-43bb-b1d3-739b4ca40181",
   "metadata": {},
   "source": [
    "# Basic Overview"
   ]
  },
  {
   "cell_type": "code",
   "execution_count": 4,
   "id": "21da400f-b303-41ec-bc29-56f3e59d273d",
   "metadata": {},
   "outputs": [
    {
     "name": "stdout",
     "output_type": "stream",
     "text": [
      "<class 'pandas.core.frame.DataFrame'>\n",
      "RangeIndex: 10635 entries, 0 to 10634\n",
      "Data columns (total 4 columns):\n",
      " #   Column      Non-Null Count  Dtype \n",
      "---  ------      --------------  ----- \n",
      " 0   Unnamed: 0  10635 non-null  int64 \n",
      " 1   title       10635 non-null  object\n",
      " 2   text        10373 non-null  object\n",
      " 3   genres      10635 non-null  object\n",
      "dtypes: int64(1), object(3)\n",
      "memory usage: 332.5+ KB\n"
     ]
    }
   ],
   "source": [
    "text_df.info()"
   ]
  },
  {
   "cell_type": "code",
   "execution_count": 5,
   "id": "603cc1fe-1433-4998-96dc-5118698fd4a9",
   "metadata": {},
   "outputs": [
    {
     "name": "stdout",
     "output_type": "stream",
     "text": [
      "<class 'pandas.core.frame.DataFrame'>\n",
      "RangeIndex: 271360 entries, 0 to 271359\n",
      "Data columns (total 8 columns):\n",
      " #   Column               Non-Null Count   Dtype \n",
      "---  ------               --------------   ----- \n",
      " 0   ISBN                 271360 non-null  object\n",
      " 1   Book-Title           271360 non-null  object\n",
      " 2   Book-Author          271358 non-null  object\n",
      " 3   Year-Of-Publication  271360 non-null  object\n",
      " 4   Publisher            271358 non-null  object\n",
      " 5   Image-URL-S          271360 non-null  object\n",
      " 6   Image-URL-M          271360 non-null  object\n",
      " 7   Image-URL-L          271357 non-null  object\n",
      "dtypes: object(8)\n",
      "memory usage: 16.6+ MB\n"
     ]
    }
   ],
   "source": [
    "date_df.info()"
   ]
  },
  {
   "cell_type": "markdown",
   "id": "41a1ddb3-c25a-4a9a-9fae-93e0d1cb8280",
   "metadata": {},
   "source": [
    "# Checking for missing data, dropping missing text"
   ]
  },
  {
   "cell_type": "code",
   "execution_count": 6,
   "id": "783e7118-a68b-4b14-87d3-4f57483bc35f",
   "metadata": {},
   "outputs": [
    {
     "name": "stdout",
     "output_type": "stream",
     "text": [
      "Unnamed: 0      0\n",
      "title           0\n",
      "text          262\n",
      "genres          0\n",
      "dtype: int64 \n",
      "\n",
      " ISBN                   0\n",
      "Book-Title             0\n",
      "Book-Author            2\n",
      "Year-Of-Publication    0\n",
      "Publisher              2\n",
      "Image-URL-S            0\n",
      "Image-URL-M            0\n",
      "Image-URL-L            3\n",
      "dtype: int64\n"
     ]
    }
   ],
   "source": [
    "print(text_df.isnull().sum(), '\\n\\n', date_df.isnull().sum())"
   ]
  },
  {
   "cell_type": "markdown",
   "id": "9d5b1b5a-febc-449f-ae38-66774d8e1d9a",
   "metadata": {},
   "source": [
    "From the above, we see 262 rows are missing `text` , and no `Year of Publication` is missing.\n",
    "\n",
    "We will delete the rows where text is missing."
   ]
  },
  {
   "cell_type": "code",
   "execution_count": 7,
   "id": "a8ab333f-caa8-4c0b-b53a-18f6dd5bbc9e",
   "metadata": {},
   "outputs": [],
   "source": [
    "text_df = text_df.dropna(subset=['text'])\n",
    "date_df = date_df.dropna(subset=['Book-Author'])"
   ]
  },
  {
   "cell_type": "markdown",
   "id": "dca64073-7018-492c-8d79-1c1d16af35fb",
   "metadata": {},
   "source": [
    "# Dropping Unnecessary Columns"
   ]
  },
  {
   "cell_type": "code",
   "execution_count": 8,
   "id": "1d3f1c64-1ca7-4c23-acef-cb9e4baaa8f9",
   "metadata": {},
   "outputs": [],
   "source": [
    "text_df = text_df.drop(columns=['Unnamed: 0'])"
   ]
  },
  {
   "cell_type": "code",
   "execution_count": 9,
   "id": "937b8448-836c-43c3-91d6-d7594a1648fa",
   "metadata": {},
   "outputs": [],
   "source": [
    "date_df = date_df.drop(columns=['ISBN', 'Publisher', 'Image-URL-S', 'Image-URL-M', 'Image-URL-L'])"
   ]
  },
  {
   "cell_type": "code",
   "execution_count": 10,
   "id": "8c42452d-ca8e-411c-a05d-effd77a8a1ba",
   "metadata": {},
   "outputs": [
    {
     "name": "stdout",
     "output_type": "stream",
     "text": [
      "title     0\n",
      "text      0\n",
      "genres    0\n",
      "dtype: int64 \n",
      "\n",
      " Book-Title             0\n",
      "Book-Author            0\n",
      "Year-Of-Publication    0\n",
      "dtype: int64\n"
     ]
    }
   ],
   "source": [
    "print(text_df.isnull().sum(), '\\n\\n', date_df.isnull().sum())"
   ]
  },
  {
   "cell_type": "markdown",
   "id": "1f2fafd1-431c-43de-a7fe-a4b04ffc4452",
   "metadata": {},
   "source": [
    "# Merging `text_df` and `date_df`"
   ]
  },
  {
   "cell_type": "code",
   "execution_count": 11,
   "id": "967030c5-9801-4799-aac9-01c8cb16c03f",
   "metadata": {},
   "outputs": [],
   "source": [
    "# Renaming the column in date_df to match text_df\n",
    "date_df.rename(columns={'Book-Title': 'title'}, inplace=True)"
   ]
  },
  {
   "cell_type": "code",
   "execution_count": 20,
   "id": "6848582e-b794-42bf-958d-b873d4f5d7e4",
   "metadata": {},
   "outputs": [],
   "source": [
    "# Convert the 'title' column in both DataFrames to lowercase\n",
    "text_df['title'] = text_df['title'].str.lower()\n",
    "date_df['title'] = date_df['title'].str.lower()"
   ]
  },
  {
   "cell_type": "code",
   "execution_count": 21,
   "id": "d7fca8a1-fdef-4865-8c1c-f1f1f3c1c1b2",
   "metadata": {},
   "outputs": [],
   "source": [
    "novel_df = pd.merge(text_df, date_df, on='title', how='inner')"
   ]
  },
  {
   "cell_type": "code",
   "execution_count": 22,
   "id": "034090c0-d066-4b9a-a447-fa48b8e27a5e",
   "metadata": {},
   "outputs": [
    {
     "data": {
      "text/html": [
       "<div>\n",
       "<style scoped>\n",
       "    .dataframe tbody tr th:only-of-type {\n",
       "        vertical-align: middle;\n",
       "    }\n",
       "\n",
       "    .dataframe tbody tr th {\n",
       "        vertical-align: top;\n",
       "    }\n",
       "\n",
       "    .dataframe thead th {\n",
       "        text-align: right;\n",
       "    }\n",
       "</style>\n",
       "<table border=\"1\" class=\"dataframe\">\n",
       "  <thead>\n",
       "    <tr style=\"text-align: right;\">\n",
       "      <th></th>\n",
       "      <th>title</th>\n",
       "      <th>text</th>\n",
       "      <th>genres</th>\n",
       "      <th>Book-Author</th>\n",
       "      <th>Year-Of-Publication</th>\n",
       "    </tr>\n",
       "  </thead>\n",
       "  <tbody>\n",
       "    <tr>\n",
       "      <th>0</th>\n",
       "      <td>the house on the borderland</td>\n",
       "      <td>Produced by Suzanne Shell, Sjaani and PG Distr...</td>\n",
       "      <td>{'horror', 'mystery', 'classics', 'science-fic...</td>\n",
       "      <td>Hodgson, William Hope</td>\n",
       "      <td>2003</td>\n",
       "    </tr>\n",
       "    <tr>\n",
       "      <th>1</th>\n",
       "      <td>the house on the borderland</td>\n",
       "      <td>Produced by Suzanne Shell, Sjaani and PG Distr...</td>\n",
       "      <td>{'horror', 'mystery', 'classics', 'science-fic...</td>\n",
       "      <td>William Hope Hodgson</td>\n",
       "      <td>1996</td>\n",
       "    </tr>\n",
       "    <tr>\n",
       "      <th>2</th>\n",
       "      <td>the warriors</td>\n",
       "      <td>Produced by Charles Aldarondo, Charlie Kirschn...</td>\n",
       "      <td>{'literary-fiction', 'history', 'biography', '...</td>\n",
       "      <td>Sol Yurick</td>\n",
       "      <td>2003</td>\n",
       "    </tr>\n",
       "    <tr>\n",
       "      <th>3</th>\n",
       "      <td>carmilla</td>\n",
       "      <td>Produced by Suzanne Shell, Sjaani and PG Distr...</td>\n",
       "      <td>{'romance', 'novella', 'historical-fiction', '...</td>\n",
       "      <td>Joseph Sheridan Le Fanu</td>\n",
       "      <td>0</td>\n",
       "    </tr>\n",
       "    <tr>\n",
       "      <th>4</th>\n",
       "      <td>carmilla</td>\n",
       "      <td>Produced by Suzanne Shell, Sjaani and PG Distr...</td>\n",
       "      <td>{'romance', 'novella', 'historical-fiction', '...</td>\n",
       "      <td>Joseph Sheridan Le Fanu</td>\n",
       "      <td>2003</td>\n",
       "    </tr>\n",
       "    <tr>\n",
       "      <th>...</th>\n",
       "      <td>...</td>\n",
       "      <td>...</td>\n",
       "      <td>...</td>\n",
       "      <td>...</td>\n",
       "      <td>...</td>\n",
       "    </tr>\n",
       "    <tr>\n",
       "      <th>2736</th>\n",
       "      <td>undertow</td>\n",
       "      <td>Produced by Charles Franks and the Online Dist...</td>\n",
       "      <td>{'romance', 'contemporary', 'amazon', 'fiction...</td>\n",
       "      <td>Sally Helen Reid</td>\n",
       "      <td>1992</td>\n",
       "    </tr>\n",
       "    <tr>\n",
       "      <th>2737</th>\n",
       "      <td>undertow</td>\n",
       "      <td>Produced by Charles Franks and the Online Dist...</td>\n",
       "      <td>{'romance', 'contemporary', 'amazon', 'fiction...</td>\n",
       "      <td>Drake Douglas</td>\n",
       "      <td>1987</td>\n",
       "    </tr>\n",
       "    <tr>\n",
       "      <th>2738</th>\n",
       "      <td>undertow</td>\n",
       "      <td>Produced by Charles Franks and the Online Dist...</td>\n",
       "      <td>{'romance', 'contemporary', 'amazon', 'fiction...</td>\n",
       "      <td>Amy Schutzer</td>\n",
       "      <td>2000</td>\n",
       "    </tr>\n",
       "    <tr>\n",
       "      <th>2739</th>\n",
       "      <td>winding paths</td>\n",
       "      <td>This Etext was prepared by w.debeuf@belgacom.n...</td>\n",
       "      <td>{'classics', 'love'}</td>\n",
       "      <td>Bruce Chatwin</td>\n",
       "      <td>1999</td>\n",
       "    </tr>\n",
       "    <tr>\n",
       "      <th>2740</th>\n",
       "      <td>wild animals</td>\n",
       "      <td>Produced by Ralph Zimmermann, Charles Franks\\n...</td>\n",
       "      <td>{'animals', 'childrens', 'art', 'non-fiction'}</td>\n",
       "      <td>Snapshot</td>\n",
       "      <td>0</td>\n",
       "    </tr>\n",
       "  </tbody>\n",
       "</table>\n",
       "<p>2741 rows × 5 columns</p>\n",
       "</div>"
      ],
      "text/plain": [
       "                            title  \\\n",
       "0     the house on the borderland   \n",
       "1     the house on the borderland   \n",
       "2                    the warriors   \n",
       "3                        carmilla   \n",
       "4                        carmilla   \n",
       "...                           ...   \n",
       "2736                     undertow   \n",
       "2737                     undertow   \n",
       "2738                     undertow   \n",
       "2739                winding paths   \n",
       "2740                 wild animals   \n",
       "\n",
       "                                                   text  \\\n",
       "0     Produced by Suzanne Shell, Sjaani and PG Distr...   \n",
       "1     Produced by Suzanne Shell, Sjaani and PG Distr...   \n",
       "2     Produced by Charles Aldarondo, Charlie Kirschn...   \n",
       "3     Produced by Suzanne Shell, Sjaani and PG Distr...   \n",
       "4     Produced by Suzanne Shell, Sjaani and PG Distr...   \n",
       "...                                                 ...   \n",
       "2736  Produced by Charles Franks and the Online Dist...   \n",
       "2737  Produced by Charles Franks and the Online Dist...   \n",
       "2738  Produced by Charles Franks and the Online Dist...   \n",
       "2739  This Etext was prepared by w.debeuf@belgacom.n...   \n",
       "2740  Produced by Ralph Zimmermann, Charles Franks\\n...   \n",
       "\n",
       "                                                 genres  \\\n",
       "0     {'horror', 'mystery', 'classics', 'science-fic...   \n",
       "1     {'horror', 'mystery', 'classics', 'science-fic...   \n",
       "2     {'literary-fiction', 'history', 'biography', '...   \n",
       "3     {'romance', 'novella', 'historical-fiction', '...   \n",
       "4     {'romance', 'novella', 'historical-fiction', '...   \n",
       "...                                                 ...   \n",
       "2736  {'romance', 'contemporary', 'amazon', 'fiction...   \n",
       "2737  {'romance', 'contemporary', 'amazon', 'fiction...   \n",
       "2738  {'romance', 'contemporary', 'amazon', 'fiction...   \n",
       "2739                               {'classics', 'love'}   \n",
       "2740     {'animals', 'childrens', 'art', 'non-fiction'}   \n",
       "\n",
       "                  Book-Author Year-Of-Publication  \n",
       "0       Hodgson, William Hope                2003  \n",
       "1        William Hope Hodgson                1996  \n",
       "2                  Sol Yurick                2003  \n",
       "3     Joseph Sheridan Le Fanu                   0  \n",
       "4     Joseph Sheridan Le Fanu                2003  \n",
       "...                       ...                 ...  \n",
       "2736         Sally Helen Reid                1992  \n",
       "2737            Drake Douglas                1987  \n",
       "2738             Amy Schutzer                2000  \n",
       "2739            Bruce Chatwin                1999  \n",
       "2740                 Snapshot                   0  \n",
       "\n",
       "[2741 rows x 5 columns]"
      ]
     },
     "execution_count": 22,
     "metadata": {},
     "output_type": "execute_result"
    }
   ],
   "source": [
    "novel_df"
   ]
  },
  {
   "cell_type": "markdown",
   "id": "f413da58-2820-41fc-84fa-dd2a5c228add",
   "metadata": {},
   "source": [
    "# EDA into novel_df"
   ]
  },
  {
   "cell_type": "markdown",
   "id": "199478b7-284e-4329-8f5b-a5879d4a301c",
   "metadata": {},
   "source": [
    "We'll be doing a EDA on the merged, `novel_df` , to determine how the data looks like."
   ]
  },
  {
   "cell_type": "markdown",
   "id": "f97e3ed8-4993-484e-a7d6-2d96c1c9b8f0",
   "metadata": {},
   "source": [
    "## Year of Publicatoin"
   ]
  },
  {
   "cell_type": "code",
   "execution_count": null,
   "id": "43fba008-1dfe-430b-97cf-0bf7560dcc3c",
   "metadata": {},
   "outputs": [],
   "source": []
  }
 ],
 "metadata": {
  "kernelspec": {
   "display_name": "Python 3 (ipykernel)",
   "language": "python",
   "name": "python3"
  },
  "language_info": {
   "codemirror_mode": {
    "name": "ipython",
    "version": 3
   },
   "file_extension": ".py",
   "mimetype": "text/x-python",
   "name": "python",
   "nbconvert_exporter": "python",
   "pygments_lexer": "ipython3",
   "version": "3.8.19"
  }
 },
 "nbformat": 4,
 "nbformat_minor": 5
}
